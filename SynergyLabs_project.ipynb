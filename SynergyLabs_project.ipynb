{
  "nbformat": 4,
  "nbformat_minor": 0,
  "metadata": {
    "colab": {
      "name": "SynergyLabs_project.ipynb",
      "provenance": [],
      "mount_file_id": "1Pj0bTQJ6Af-qaONrPrSAi1AnWiT70Ucz",
      "authorship_tag": "ABX9TyOsTggiPx+wSK4Zml2WUc+8",
      "include_colab_link": true
    },
    "kernelspec": {
      "name": "python3",
      "display_name": "Python 3"
    },
    "language_info": {
      "name": "python"
    }
  },
  "cells": [
    {
      "cell_type": "markdown",
      "metadata": {
        "id": "view-in-github",
        "colab_type": "text"
      },
      "source": [
        "<a href=\"https://colab.research.google.com/github/shubhzeal/SynergyLabs_Task/blob/main/SynergyLabs_project.ipynb\" target=\"_parent\"><img src=\"https://colab.research.google.com/assets/colab-badge.svg\" alt=\"Open In Colab\"/></a>"
      ]
    },
    {
      "cell_type": "code",
      "metadata": {
        "id": "zuYo5Zy5sdyc"
      },
      "source": [
        "#import os\n",
        "#import numpy as np\n",
        "import cv2\n",
        "#from glob import glob\n",
        "\n",
        "cap = cv2.VideoCapture(\"/content/drive/MyDrive/Colab Notebooks/synergyLabs/train/number_plate_blur (2).avi\")\n",
        "\n",
        "i = 0\n",
        "while(cap.isOpened()):\n",
        "  flag,frame = cap.read()\n",
        "  if flag == False:\n",
        "    break\n",
        "  path = '/content/drive/MyDrive/Colab Notebooks/synergyLabs/frames/happy'+str(i)+'.jpg'\n",
        "  cv2.imwrite(path,frame)\n",
        "  i+=1\n",
        "\n",
        "cap.release()\n",
        "cv2.destroyAllWindows()  \n",
        "\n",
        "#def save_frame(video_path, save_dir):\n",
        " #   name = video_path.split(\"/\")\n",
        "  #  print(name)\n",
        "    \n",
        "#if __name__==\"__main__\":\n",
        " #   video_paths = glob(\"videos/*\")\n",
        "  #  save_dir = \"save\"\n",
        "    \n",
        "   # for path in video_paths:\n",
        "    ##   break"
      ],
      "execution_count": null,
      "outputs": []
    },
    {
      "cell_type": "code",
      "metadata": {
        "id": "KbOZGR79tD4J"
      },
      "source": [
        "import cv2\n",
        "import numpy as np\n",
        "import glob \n",
        "\n",
        "%cd\n",
        "\n",
        "#img_array = []\n",
        "i = 0\n",
        "for j in glob.glob('/content/drive/MyDrive/Colab Notebooks/synergyLabs/frames/*'):\n",
        "  img = cv2.imread(j)\n",
        "  height, width, layers = img.shape\n",
        "  size = (width,height)\n",
        "  #img_array.append(img)\n",
        "  R = cv2.getRotationMatrix2D((width/2, height/2), 180, 1)\n",
        "  R_out = cv2.warpAffine(img,R,(width,height))\n",
        "  path1 = '/content/drive/MyDrive/Colab Notebooks/synergyLabs/frames1/happy '+str(i)+' .jpg'\n",
        "  #cv2.imwrite(img,path1)\n",
        "  type(path1)\n",
        "  cv2.imwrite(path1,R_out)\n",
        "  i+=1  \n"
      ],
      "execution_count": null,
      "outputs": []
    },
    {
      "cell_type": "code",
      "metadata": {
        "id": "qEK5Gs76tQHH"
      },
      "source": [
        "import cv2\n",
        "import numpy as np\n",
        "import glob\n",
        "#import cv2_imshow\n",
        "#from google.colab.patches import cv2_imshow\n",
        "\n",
        "img_array = []\n",
        "frameSize = (500, 500)\n",
        "\n",
        "\n",
        "for filename in glob.glob('/content/drive/MyDrive/Colab Notebooks/synergyLabs/frames1/*.jpg'):\n",
        "    img = cv2.imread(filename)\n",
        "    height, width, layers = img.shape\n",
        "    size = (width,height)\n",
        "    img_array.append(img)\n",
        "   \n",
        "\n",
        "out = cv2.VideoWriter('/content/drive/MyDrive/Colab Notebooks/synergyLabs/project/output_video.avi',cv2.VideoWriter_fourcc(*'DIVX'), 15, frameSize)\n",
        "\n",
        "for i in range(len(img_array)):\n",
        "    out.write(img_array[i])\n",
        "\n",
        "out.release()"
      ],
      "execution_count": null,
      "outputs": []
    }
  ]
}