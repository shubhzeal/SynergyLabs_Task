{
  "nbformat": 4,
  "nbformat_minor": 0,
  "metadata": {
    "colab": {
      "name": "SynergyLabs_project.ipynb",
      "provenance": [],
      "collapsed_sections": [],
      "authorship_tag": "ABX9TyPBnkSKmll2D2CSrrNXKxWC",
      "include_colab_link": true
    },
    "kernelspec": {
      "name": "python3",
      "display_name": "Python 3"
    },
    "language_info": {
      "name": "python"
    }
  },
  "cells": [
    {
      "cell_type": "markdown",
      "metadata": {
        "id": "view-in-github",
        "colab_type": "text"
      },
      "source": [
        "<a href=\"https://colab.research.google.com/github/shubhzeal/SynergyLabs_Task/blob/main/SynergyLabs_project.ipynb\" target=\"_parent\"><img src=\"https://colab.research.google.com/assets/colab-badge.svg\" alt=\"Open In Colab\"/></a>"
      ]
    },
    {
      "cell_type": "code",
      "metadata": {
        "id": "zuYo5Zy5sdyc"
      },
      "source": [
        "#import os\n",
        "#import numpy as np\n",
        "import cv2\n",
        "#from glob import glob\n",
        "\n",
        "cap = cv2.VideoCapture(\"/content/drive/MyDrive/Colab Notebooks/synergyLabs/train/number_plate_blur (2).avi\")\n",
        "\n",
        "i = 0\n",
        "while(cap.isOpened()):\n",
        "  flag,frame = cap.read()\n",
        "  if flag == False:\n",
        "    break\n",
        "  path = '/content/drive/MyDrive/Colab Notebooks/synergyLabs/frames/happy'+str(i)+'.jpg'\n",
        "  cv2.imwrite(path,frame)\n",
        "  i+=1\n",
        "\n",
        "cap.release()\n",
        "cv2.destroyAllWindows()  \n",
       
      ],
      "execution_count": null,
      "outputs": []
    },
    {
      "cell_type": "code",
      "metadata": {
        "id": "KbOZGR79tD4J"
      },
      "source": [
        "import cv2\n",
        "import numpy as np\n",
        "import glob \n",
        "\n",
        "%cd\n",
        "\n",
        "#img_array = []\n",
        "i = 0\n",
        "for j in glob.glob('/content/drive/MyDrive/Colab Notebooks/synergyLabs/frames/*'):\n",
        "  img = cv2.imread(j)\n",
        "  height, width, layers = img.shape\n",
        "  size = (width,height)\n",
        "  #img_array.append(img)\n",
        "  R = cv2.getRotationMatrix2D((width/2, height/2), 180, 1)\n",
        "  R_out = cv2.warpAffine(img,R,(width,height))\n",
        "  path1 = '/content/drive/MyDrive/Colab Notebooks/synergyLabs/frames1/happy '+str(i)+' .jpg'\n",
        "  #cv2.imwrite(img,path1)\n",
        "  type(path1)\n",
        "  cv2.imwrite(path1,R_out)\n",
        "  i+=1  \n"
      ],
      "execution_count": null,
      "outputs": []
    },
    {
      "cell_type": "code",
      "metadata": {
        "id": "-9shtIA-s-z3"
      },
      "source": [
        "import os\n",
        "import cv2 \n",
        "from PIL import Image \n",
        "  \n",
        "# Checking the current directory path\n",
        "print(os.getcwd()) \n",
        "  \n",
        "# Folder which contains all the images\n",
        "# from which video is to be generated\n",
        "os.chdir(\"/content/drive/MyDrive/Colab Notebooks/synergyLabs/frames1\")  \n",
        "path = \"/content/drive/MyDrive/Colab Notebooks/synergyLabs/frames1\"\n",
        "  \n",
        "mean_height = 0\n",
        "mean_width = 0\n",
        "  \n",
        "num_of_images = len(os.listdir('.'))\n",
        "print(num_of_images)\n",
        "  \n",
        "for file in os.listdir('.'):\n",
        "    im = Image.open(os.path.join(path, file))\n",
        "    width, height = im.size\n",
        "    mean_width += width\n",
        "    mean_height += height\n",
        "    # im.show()   # uncomment this for displaying the image\n",
        "  \n",
        "# Finding the mean height and width of all images.\n",
        "# This is required because the video frame needs\n",
        "# to be set with same width and height. Otherwise\n",
        "# images not equal to that width height will not get \n",
        "# embedded into the video\n",
        "mean_width = int(mean_width / num_of_images)\n",
        "mean_height = int(mean_height / num_of_images)\n",
        "  \n",
        "# print(mean_height)\n",
        "# print(mean_width)\n",
        "  \n",
        "# Resizing of the images to give\n",
        "# them same width and height \n",
        "for file in os.listdir('.'):\n",
        "    if file.endswith(\".jpg\") or file.endswith(\".jpeg\") or file.endswith(\"png\"):\n",
        "        # opening image using PIL Image\n",
        "        im = Image.open(os.path.join(path, file)) \n",
        "   \n",
        "        # im.size includes the height and width of image\n",
        "        width, height = im.size   \n",
        "        print(width, height)\n",
        "  \n",
        "        # resizing \n",
        "        imResize = im.resize((mean_width, mean_height), Image.ANTIALIAS) \n",
        "        imResize.save( file, 'JPEG', quality = 95) # setting quality\n",
        "        # printing each resized image name\n",
        "        #print(im.filename.split('\\\\')[-1], \" is resized\") \n",
        "  \n",
        "  \n",
        "# Video Generating function\n",
        "def generate_video():\n",
        "    image_folder = '/content/drive/MyDrive/Colab Notebooks/synergyLabs/frames1' # make sure to use your folder\n",
        "    video_name = 'mygeneratedvideo.avi'\n",
        "    os.chdir(\"/content/drive/MyDrive/Colab Notebooks/synergyLabs/frames1\")\n",
        "      \n",
        "    images = [img for img in os.listdir(image_folder)\n",
        "              if img.endswith(\".jpg\") or\n",
        "                 img.endswith(\".jpeg\") or\n",
        "                 img.endswith(\"png\")]\n",
        "     \n",
        "    # Array images should only consider\n",
        "    # the image files ignoring others if any\n",
        "    #print(images) \n",
        "  \n",
        "    frame = cv2.imread(os.path.join(image_folder, images[0]))\n",
        "  \n",
        "    # setting the frame width, height width\n",
        "    # the width, height of first image\n",
        "    height, width, layers = frame.shape  \n",
        "  \n",
        "    video = cv2.VideoWriter(video_name, 0, 1, (width, height)) \n",
        "  \n",
        "    # Appending the images to the video one by one\n",
        "    for image in images: \n",
        "        video.write(cv2.imread(os.path.join(image_folder, image))) \n",
        "      \n",
        "   \n",
        "    cv2.destroyAllWindows() \n",
        "    video.release() \n",
        "  \n",
        "generate_video()"
      ],
      "execution_count": null,
      "outputs": []
    }
  ]
}
